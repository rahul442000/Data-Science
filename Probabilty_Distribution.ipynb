{
  "nbformat": 4,
  "nbformat_minor": 0,
  "metadata": {
    "colab": {
      "name": "Untitled4.ipynb",
      "provenance": [],
      "authorship_tag": "ABX9TyOVfhCLcqcb8AvPHVeDVGW2",
      "include_colab_link": true
    },
    "kernelspec": {
      "name": "python3",
      "display_name": "Python 3"
    }
  },
  "cells": [
    {
      "cell_type": "markdown",
      "metadata": {
        "id": "view-in-github",
        "colab_type": "text"
      },
      "source": [
        "<a href=\"https://colab.research.google.com/github/rahul442000/Data-Science/blob/main/Probabilty_Distribution.ipynb\" target=\"_parent\"><img src=\"https://colab.research.google.com/assets/colab-badge.svg\" alt=\"Open In Colab\"/></a>"
      ]
    },
    {
      "cell_type": "markdown",
      "metadata": {
        "id": "9_HvEZgJd_6R"
      },
      "source": [
        "Name = Rahul Soni\n",
        "Roll No. = 171321\n",
        "Batch = Cs_74\n",
        "Probability distribution functions (Binomial and Poission"
      ]
    },
    {
      "cell_type": "code",
      "metadata": {
        "id": "p5ODPCJdVLKl",
        "outputId": "97fef7fb-8612-4158-a72a-2ea55d709ef7",
        "colab": {
          "base_uri": "https://localhost:8080/",
          "height": 418
        }
      },
      "source": [
        "#Binomial Distribution\n",
        "#171321\n",
        "\n",
        "from scipy.stats import binom\n",
        "import math\n",
        "import matplotlib.pyplot as plt\n",
        "\n",
        "print(\"Exactly 5 customers will return the items:\")\n",
        "print(binom.pmf(5,20,0.1))\n",
        "print(\"Maximum 5 customers will return the items:\")\n",
        "print(binom.cdf(5,20,0.1))\n",
        "print(\"More than 5 customers will return the items:\")\n",
        "print(1-binom.cdf(5,20,0.1))\n",
        "mean,var=binom.stats(20,0.1)\n",
        "print(\"mean: \"+str(mean)) \n",
        "print(\"variance: \"+str(var))\n",
        "print(\"Standard Deviation: \",math.sqrt(var)) \n",
        "\n",
        "# defining list of r values \n",
        "r_values = list(range(21)) \n",
        "# list of pmf values \n",
        "dist = [binom.pmf(r, 20, 0.1) for r in r_values ] \n",
        "# plotting the graph  \n",
        "plt.bar(r_values, dist) \n",
        "plt.show()"
      ],
      "execution_count": 1,
      "outputs": [
        {
          "output_type": "stream",
          "text": [
            "Exactly 5 customers will return the items:\n",
            "0.03192136111995428\n",
            "Maximum 5 customers will return the items:\n",
            "0.988746865835491\n",
            "More than 5 customers will return the items:\n",
            "0.011253134164509015\n",
            "mean: 2.0\n",
            "variance: 1.8\n",
            "Standard Deviation:  1.3416407864998738\n"
          ],
          "name": "stdout"
        },
        {
          "output_type": "display_data",
          "data": {
            "image/png": "[encoded data removed]",
            "text/plain": [
              "<Figure size 432x288 with 1 Axes>"
            ]
          },
          "metadata": {
            "tags": [],
            "needs_background": "light"
          }
        }
      ]
    },
    {
      "cell_type": "code",
      "metadata": {
        "id": "GUVoalDFWCZv",
        "outputId": "4dc40830-9ce0-4238-c646-3df82e5741f2",
        "colab": {
          "base_uri": "https://localhost:8080/",
          "height": 333
        }
      },
      "source": [
        "#Poisson Distribution\n",
        "#171321\n",
        "\n",
        "from scipy.stats import poisson\n",
        "import seaborn as sb\n",
        "print(\"Number of calls will be maximum five:\")\n",
        "print(poisson.cdf(5,10))\n",
        "print(\"Number of calls will exceed 30 in in 3 hours:\")\n",
        "print(1-poisson.cdf(30,30))\n",
        "# defining list of r values \n",
        "r_values = list(range(31)) \n",
        "# list of pmf values \n",
        "dist = [poisson.pmf(r,10,) for r in r_values ] \n",
        "# plotting the graph  \n",
        "plt.bar(r_values, dist) \n",
        "plt.show()"
      ],
      "execution_count": 2,
      "outputs": [
        {
          "output_type": "stream",
          "text": [
            "Number of calls will be maximum five:\n",
            "0.06708596287903189\n",
            "Number of calls will will exced 30 in in 3 hours:\n",
            "0.45164848742208863\n"
          ],
          "name": "stdout"
        },
        {
          "output_type": "display_data",
          "data": {
            "image/png": "[encoded data removed]",
            "text/plain": [
              "<Figure size 432x288 with 1 Axes>"
            ]
          },
          "metadata": {
            "tags": [],
            "needs_background": "light"
          }
        }
      ]
    }
  ]
}