{
  "nbformat": 4,
  "nbformat_minor": 0,
  "metadata": {
    "colab": {
      "name": "Untitled7.ipynb",
      "provenance": [],
      "authorship_tag": "ABX9TyOC0Iuu1aqgF6i2z3dt82qc",
      "include_colab_link": true
    },
    "kernelspec": {
      "name": "python3",
      "display_name": "Python 3"
    }
  },
  "cells": [
    {
      "cell_type": "markdown",
      "metadata": {
        "id": "view-in-github",
        "colab_type": "text"
      },
      "source": [
        "<a href=\"https://colab.research.google.com/github/rahul442000/Data-Science/blob/main/Probability_distribution_2.ipynb\" target=\"_parent\"><img src=\"https://colab.research.google.com/assets/colab-badge.svg\" alt=\"Open In Colab\"/></a>"
      ]
    },
    {
      "cell_type": "code",
      "metadata": {
        "id": "xLdIr1UXglao",
        "outputId": "2e914175-afe1-4a12-ff6d-639752f28e1a",
        "colab": {
          "base_uri": "https://localhost:8080/",
          "height": 539
        }
      },
      "source": [
        "# Exponential Distribution\n",
        "\n",
        "from scipy import stats\n",
        "import pandas as pd\n",
        "import seaborn as sns\n",
        "import matplotlib.pyplot as plt\n",
        "\n",
        "print('System will fail before 1000 hours:')\n",
        "print(stats.expon.cdf(1000,loc=1/1000,scale=1000))\n",
        "print('System will not fail upto 2000 hours:')\n",
        "print(1-stats.expon.cdf(2000,loc=1/1000,scale=1000))\n",
        "print('Time by which 10% of the system will fail: ')\n",
        "print(stats.expon.ppf(0.1,loc=1/1000,scale=1000))\n",
        "print('Plotting the PDF function against different time-to-failure hours:')\n",
        "plt.figure(figsize=(10,6))\n",
        "pdf_df=pd.DataFrame({'success':range(100,5000,100),'pdf':list(stats.expon.pdf(range(100,5000,100),loc=1/1000,scale=1000))})\n",
        "sns.barplot(x=pdf_df.success,y=pdf_df.pdf)\n",
        "plt.xticks(rotation=90)\n",
        "plt.xlabel('Time of failure')"
      ],
      "execution_count": 9,
      "outputs": [
        {
          "output_type": "stream",
          "text": [
            "System will fail before 1000 hours:\n",
            "0.6321201909489326\n",
            "System will not fail upto 2000 hours:\n",
            "0.13533541857196352\n",
            "Time by which 10% of the system will fail: \n",
            "105.36151565782632\n",
            "Plotting the PDF function against different time-to-failure hours:\n"
          ],
          "name": "stdout"
        },
        {
          "output_type": "execute_result",
          "data": {
            "text/plain": [
              "Text(0.5, 0, 'Time of failure')"
            ]
          },
          "metadata": {
            "tags": []
          },
          "execution_count": 9
        },
        {
          "output_type": "display_data",
          "data": {
            "image/png": "[encoded data removed]",
            "text/plain": [
              "<Figure size 720x432 with 1 Axes>"
            ]
          },
          "metadata": {
            "tags": [],
            "needs_background": "light"
          }
        }
      ]
    }
  ]
}